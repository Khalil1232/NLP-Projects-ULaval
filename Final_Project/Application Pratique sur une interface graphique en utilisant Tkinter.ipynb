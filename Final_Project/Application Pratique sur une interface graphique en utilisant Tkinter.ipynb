{
 "cells": [
  {
   "cell_type": "markdown",
   "metadata": {},
   "source": [
    "#  Codes du Projet du Cours IFT 7022 (Partie Application sur une interface graphique en utilisant Tkinter)"
   ]
  },
  {
   "cell_type": "markdown",
   "metadata": {},
   "source": [
    "### Membre de l'équipe :\n",
    "\n",
    "##### -Sekou Kaba\n",
    "##### -Salah Eddine Khalil"
   ]
  },
  {
   "cell_type": "markdown",
   "metadata": {},
   "source": [
    "# Importations des modules requis pour la réalisation de l'application (A installer au cas de besoin)"
   ]
  },
  {
   "cell_type": "code",
   "execution_count": 1,
   "metadata": {
    "scrolled": true
   },
   "outputs": [],
   "source": [
    "import os\n",
    "import librosa\n",
    "import IPython.display as ipd\n",
    "from scipy.io import wavfile\n",
    "from math import *\n",
    "from tkinter import *\n",
    "from tkinter import messagebox\n",
    "from copy import deepcopy\n",
    "import webbrowser as wb\n",
    "from tkinter import filedialog\n",
    "from keras.models import load_model\n",
    "import numpy as np\n",
    "import pandas as pd\n",
    "import sounddevice as sd\n",
    "import soundfile as sf\n",
    "import csv as cssv\n",
    "import warnings\n",
    "\n",
    "\n",
    "warnings.filterwarnings(\"ignore\")"
   ]
  },
  {
   "cell_type": "markdown",
   "metadata": {},
   "source": [
    "Puis on defini un fonction de prédiction, qui prend en entré un audio, le réechantillone en 8000Hz Effectue par la suite la prédiction du label et retourne le label corespondant(Parmi les labels classes choisis)"
   ]
  },
  {
   "cell_type": "code",
   "execution_count": 2,
   "metadata": {},
   "outputs": [],
   "source": [
    "def convertir(audio):\n",
    "    classes=['down', 'go', 'left', 'no', 'off', 'on', 'right', 'stop', 'up', 'yes']\n",
    "    model=load_model('best_model.hdf5')\n",
    "    prob=model.predict(audio.reshape(1,8000,1))\n",
    "    index=np.argmax(prob[0])\n",
    "    return classes[index]\n"
   ]
  },
  {
   "cell_type": "markdown",
   "metadata": {},
   "source": [
    "Nous deffinissons une fonction qui permet egalement d'enregistrer instantannement un audio en 1s et de le convertir"
   ]
  },
  {
   "cell_type": "code",
   "execution_count": 3,
   "metadata": {},
   "outputs": [],
   "source": [
    "def ecouter():\n",
    "    samplerate = 16000  \n",
    "    duration = 1 #seconds\n",
    "    filename = 'instantanee.wav'\n",
    "    print(\"start\")\n",
    "    mydata = sd.rec(int(samplerate * duration), samplerate=samplerate,\n",
    "        channels=1, blocking=True)\n",
    "    print(\"end\")\n",
    "    sd.wait()\n",
    "    sf.write(filename, mydata, samplerate)\n",
    "    sample, sample_rate = librosa.load(filename, sr = 16000)\n",
    "    sample = librosa.resample(sample, sample_rate, 8000)\n",
    "    if(len(sample)== 8000) : \n",
    "        text=convertir(sample)\n",
    "    else:\n",
    "        text=\"impossible\"\n",
    "    ent1.delete('0.0','end')\n",
    "    ent1.insert('0.0',text)\n",
    "    os.system(\"rm \"+filename)\n",
    "    "
   ]
  },
  {
   "cell_type": "markdown",
   "metadata": {},
   "source": [
    "A defaut d'ecouter l'utilisateur, nous deffinissons une fonction qui permet de charger un audio et de le convertir"
   ]
  },
  {
   "cell_type": "code",
   "execution_count": 4,
   "metadata": {},
   "outputs": [],
   "source": [
    "def charger():\n",
    "    global liste\n",
    "    liste=filedialog.askdirectory()\n",
    "    sons=os.listdir(liste)\n",
    "    sons=[f for f in os.listdir(liste) if f.endswith('.wav')]\n",
    "    global dsonss\n",
    "    dsonss={}\n",
    "    for son in sons:\n",
    "        sample, sample_rate = librosa.load(liste+'/'+son, sr = 16000)\n",
    "        sample = librosa.resample(sample, sample_rate, 8000)\n",
    "        if(len(sample)== 8000) : \n",
    "            dsonss.update({son:convertir(sample)})\n",
    "        else:\n",
    "            dsonss.update({son:\"impossible\"})        \n",
    "    ListF.delete(0, ListF.size())\n",
    "    n=1\n",
    "    \n",
    "    ligne=\"ID Speech  \\t \\t                                  Text\"\n",
    "    for i,j in dsonss.items():\n",
    "        ListF.insert(ListF.size() + 1, ligne)\n",
    "        ligne = i + '  \\t \\t \\t \\t ' + j \n",
    "        n+=1\n",
    "    ListF.insert(ListF.size() + 1, ligne)"
   ]
  },
  {
   "cell_type": "markdown",
   "metadata": {},
   "source": [
    "Pour exporter les predictions dans un fichier csv"
   ]
  },
  {
   "cell_type": "code",
   "execution_count": 5,
   "metadata": {},
   "outputs": [],
   "source": [
    "def export():\n",
    "    try:\n",
    "        with open(liste+'/Resultats.csv', 'w', newline='') as fichier:\n",
    "            ecri = cssv.writer(fichier)\n",
    "            ecri.writerow(['ID Speech', 'Text'])\n",
    "            for i,j in dsonss.items():\n",
    "                ecri.writerow([ i,j])    \n",
    "        messagebox.showinfo(\"Succes\",\"Exportés avec succes\")\n",
    "    except:\n",
    "        messagebox.showerror(\"Erreur d'ouverture\",\n",
    "                     \"Une erreur est survenue. Impossible d'exproter les données!\")\n"
   ]
  },
  {
   "cell_type": "markdown",
   "metadata": {},
   "source": [
    "Quelques fonctions auxiliaires, utilisées pour amelliorer l'interface :"
   ]
  },
  {
   "cell_type": "code",
   "execution_count": 7,
   "metadata": {},
   "outputs": [],
   "source": [
    "#Pour actualiser l'interface\n",
    "\n",
    "def refresh():\n",
    "    b = messagebox.askyesnocancel('Actualiser ?', \"Etes vous sure de vouloir rafraichir le Convertisseur?\", )\n",
    "    if b == True:\n",
    "        ent1.delete('0.0','end')\n",
    "        ListF.delete(0, ListF.size())\n",
    "\n",
    "#Pour fermer l'interface\n",
    "\n",
    "def detruire():\n",
    "    b = messagebox.askyesnocancel('Quitter ?', \"Etes vous sure de vouloir quitter le convertisseur?\", )\n",
    "    if b == True:\n",
    "        converti.destroy()\n",
    "\n",
    "#Un descrptif pdf de l'utilisation\n",
    "\n",
    "def ouvr():\n",
    "    try:\n",
    "        open(\"converti.pdf\",'r')\n",
    "    except:\n",
    "        messagebox.showinfo(\"!\", \"Veillez ouvrir manuellement le guide, présent dans le dossier de l'application!\")\n",
    "\n",
    "#Un descrptif video de l'utilisation        \n",
    "def ouvr1():\n",
    "    try:\n",
    "         open(\"converti.mp4\",'r')\n",
    "    except:\n",
    "         messagebox.showinfo(\"!\", \"Veillez ouvrir manuellement le guide, présent dans le dossier de l'application!\")\n"
   ]
  },
  {
   "cell_type": "markdown",
   "metadata": {},
   "source": [
    "Création d'une interface permettant la conversion de l'audio en text (Utilisant le module python)"
   ]
  },
  {
   "cell_type": "code",
   "execution_count": 8,
   "metadata": {},
   "outputs": [
    {
     "name": "stdout",
     "output_type": "stream",
     "text": [
      "start\n",
      "end\n",
      "1/1 [==============================] - 0s 240ms/step\n",
      "1/1 [==============================] - 0s 122ms/step\n",
      "1/1 [==============================] - 0s 123ms/step\n",
      "1/1 [==============================] - 0s 119ms/step\n",
      "WARNING:tensorflow:5 out of the last 5 calls to <function Model.make_predict_function.<locals>.predict_function at 0x0000012887B49A60> triggered tf.function retracing. Tracing is expensive and the excessive number of tracings could be due to (1) creating @tf.function repeatedly in a loop, (2) passing tensors with different shapes, (3) passing Python objects instead of tensors. For (1), please define your @tf.function outside of the loop. For (2), @tf.function has reduce_retracing=True option that can avoid unnecessary retracing. For (3), please refer to https://www.tensorflow.org/guide/function#controlling_retracing and https://www.tensorflow.org/api_docs/python/tf/function for  more details.\n",
      "1/1 [==============================] - 0s 127ms/step\n",
      "start\n",
      "end\n",
      "WARNING:tensorflow:6 out of the last 6 calls to <function Model.make_predict_function.<locals>.predict_function at 0x0000012887DB0940> triggered tf.function retracing. Tracing is expensive and the excessive number of tracings could be due to (1) creating @tf.function repeatedly in a loop, (2) passing tensors with different shapes, (3) passing Python objects instead of tensors. For (1), please define your @tf.function outside of the loop. For (2), @tf.function has reduce_retracing=True option that can avoid unnecessary retracing. For (3), please refer to https://www.tensorflow.org/guide/function#controlling_retracing and https://www.tensorflow.org/api_docs/python/tf/function for  more details.\n",
      "1/1 [==============================] - 0s 124ms/step\n",
      "start\n",
      "end\n",
      "1/1 [==============================] - 0s 123ms/step\n"
     ]
    }
   ],
   "source": [
    "converti=Tk()\n",
    "converti.title('Projet Cours IFT-7022')\n",
    "converti.geometry(\"1300x660\")\n",
    "converti.config(bg='plum4')\n",
    "converti.resizable(width=False,height=False)\n",
    "\n",
    "im1=PhotoImage(file='L1.png')\n",
    "im2=PhotoImage(file='L2.png')\n",
    "im3=PhotoImage(file='L3.png')\n",
    "converti.iconphoto(False, im2)\n",
    "lf1 = LabelFrame(converti,width=10, height=0, text=\"  Demarrer l'écoute \",font=\"Arial 16 italic\", fg='black', padx=5, pady=20)\n",
    "lf1.place(x=0,y=150)\n",
    "lf2 = LabelFrame(converti,width=20, height=0, text=\"  Charger les fichiers  \",font=\"Arial 16 italic\", fg='black', padx=5, pady=20)\n",
    "lf2.place(x=734,y=10)\n",
    "panel1 = Label(lf1, image=im1)\n",
    "panel1.pack(side='left', expand=True)\n",
    "panel2 = Label(lf2, image=im3)\n",
    "panel2.pack(side='right', expand=True)\n",
    "converti.lift()\n",
    "\n",
    "ent1 = Text(converti,fg='black',bg='white', font=('Times', '30', 'italic'), width=34, height=1)\n",
    "ent1.place(x=15, y=200)\n",
    "\n",
    "\n",
    "B2=Button(converti,text=\"Rafraichir\", bg='PaleTurquoise1', font=('Times', '20', 'bold italic'), fg='black',width=10,command=refresh)\n",
    "B2.place(x=550,y=580)\n",
    "B3=Button(converti,text=\"Ecouter & Convertir\", bg='royal blue', font=('Times', '15', 'bold italic'), fg='black',width=16,command=ecouter)\n",
    "B3.place(x=520,y=163)\n",
    "B4=Button(converti,text=\"Charger & Convertir\", bg='royal blue', font=('Times', '15', 'bold italic'), fg='black',width=16,command=charger)\n",
    "B4.place(x=1100,y=23)\n",
    "B5=Button(converti,text=\"Quitter\", font=('Times', '20', 'bold italic'), fg='black',width=10,command=detruire)\n",
    "B5.place(x=2,y=580)\n",
    "DefilFy=Scrollbar(converti,orient='vertical',width=17)\n",
    "DefilFy.place(x=1280, y=60)\n",
    "DefilFx= Scrollbar(converti, orient='horizontal',width=17)\n",
    "DefilFx.place(x=745, y=40)\n",
    "ListF=Listbox(converti,bg='peach puff',fg='black',font=('Times','13','italic'), width=60, height=29,xscrollcommand=DefilFx.set,yscrollcommand=DefilFy.set)\n",
    "ListF.place(x=745, y=63)\n",
    "DefilFy.config(command= ListF.xview)\n",
    "DefilFy.config(command= ListF.yview)\n",
    "\n",
    "\n",
    "menub = Menu(converti)\n",
    "converti['menu'] = menub\n",
    "menub.config(bg=\"CadetBlue4\", font=('Times', '15', 'bold italic'), fg='black', relief='groove')\n",
    "m1 = Menu(menub, bg='PaleTurquoise1', font=('Times', '12', 'bold italic'), fg='black')\n",
    "m2 = Menu(menub, bg='PaleTurquoise1', font=('Times', '12', 'bold italic'), fg='black')\n",
    "menub.add_cascade(label='Fichier', menu=m1)\n",
    "menub.add_cascade(label='Aides', menu=m2)\n",
    "m1.add_command(label=\"Exporter sous format csv\", command=export)\n",
    "m1.add_command(label=\"Rafraichir la Page\", command=refresh)\n",
    "m1.add_command(label=\"Quitter le convertisseur\", command=detruire)\n",
    "m1.config(tearoff=0)\n",
    "m2.config(tearoff=0)\n",
    "\n",
    "s1m2 = Menu(m2)\n",
    "s2m2 = Menu(m2)\n",
    "s3m2 = Menu(m2)\n",
    "m2.add_command(label=\"Guide d'utilisation\", command=ouvr)\n",
    "m2.add_command(label=\"Manuel Video\", command=ouvr1)\n",
    "m2.add_command(label=\"Pour plus veillez nous contacter\")\n",
    "\n",
    "\n",
    "converti.mainloop()"
   ]
  },
  {
   "cell_type": "code",
   "execution_count": null,
   "metadata": {},
   "outputs": [],
   "source": []
  }
 ],
 "metadata": {
  "kernelspec": {
   "display_name": "Python 3 (ipykernel)",
   "language": "python",
   "name": "python3"
  },
  "language_info": {
   "codemirror_mode": {
    "name": "ipython",
    "version": 3
   },
   "file_extension": ".py",
   "mimetype": "text/x-python",
   "name": "python",
   "nbconvert_exporter": "python",
   "pygments_lexer": "ipython3",
   "version": "3.9.7"
  }
 },
 "nbformat": 4,
 "nbformat_minor": 4
}
